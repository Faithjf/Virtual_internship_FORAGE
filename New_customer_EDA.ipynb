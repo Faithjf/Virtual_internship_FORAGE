{
 "cells": [
  {
   "cell_type": "markdown",
   "id": "4a275c2c",
   "metadata": {},
   "source": [
    "# This notebook contains the Data Exploration Analysis for Sprocket Plt Company.\n",
    "\n",
    "### I will be answering their inquires about their marketing strategy, using the insights from this dataset.\n",
    "\n",
    "### After every charts the deductions follows to explain the results"
   ]
  },
  {
   "cell_type": "code",
   "execution_count": 1,
   "id": "273d8cd2",
   "metadata": {},
   "outputs": [],
   "source": [
    "#Importing relevant packages\n",
    "import numpy as np\n",
    "import pandas as pd\n",
    "import seaborn as sns\n",
    "import matplotlib.pyplot as plt\n",
    "\n",
    "%matplotlib inline\n"
   ]
  },
  {
   "cell_type": "markdown",
   "id": "bb0ea8bc",
   "metadata": {},
   "source": [
    "## Extracting the data file from my device"
   ]
  },
  {
   "cell_type": "code",
   "execution_count": 2,
   "id": "02ea6528",
   "metadata": {},
   "outputs": [
    {
     "name": "stderr",
     "output_type": "stream",
     "text": [
      "C:\\Users\\MRS COLLINS\\AppData\\Local\\Temp\\ipykernel_6216\\169425300.py:1: FutureWarning: Inferring datetime64[ns] from data containing strings is deprecated and will be removed in a future version. To retain the old behavior explicitly pass Series(data, dtype=datetime64[ns])\n",
      "  df = pd.read_excel('KPMG_customer_data.xlsx', sheet_name=None)\n",
      "C:\\Users\\MRS COLLINS\\AppData\\Local\\Temp\\ipykernel_6216\\169425300.py:1: FutureWarning: Inferring datetime64[ns] from data containing strings is deprecated and will be removed in a future version. To retain the old behavior explicitly pass Series(data, dtype=datetime64[ns])\n",
      "  df = pd.read_excel('KPMG_customer_data.xlsx', sheet_name=None)\n",
      "C:\\Users\\MRS COLLINS\\AppData\\Local\\Temp\\ipykernel_6216\\169425300.py:1: FutureWarning: Inferring datetime64[ns] from data containing strings is deprecated and will be removed in a future version. To retain the old behavior explicitly pass Series(data, dtype=datetime64[ns])\n",
      "  df = pd.read_excel('KPMG_customer_data.xlsx', sheet_name=None)\n"
     ]
    }
   ],
   "source": [
    "df = pd.read_excel('KPMG_customer_data.xlsx', sheet_name=None)\n",
    "\n",
    "# the sheets names 'Title Sheet',NewClients'Transactions', 'NewCustomerList', 'CustomerDemographic', 'CustomerAddress'"
   ]
  },
  {
   "cell_type": "markdown",
   "id": "35da9d81",
   "metadata": {},
   "source": [
    "The above warining is as regards to one of the sheet that contains a date type as number, we'll ingnore it because we'er not working on that sheet"
   ]
  },
  {
   "cell_type": "markdown",
   "id": "68260572",
   "metadata": {},
   "source": [
    "## The 1000 new customer's data information\n",
    "**understanding the dataset**"
   ]
  },
  {
   "cell_type": "code",
   "execution_count": 3,
   "id": "0488c6a8",
   "metadata": {},
   "outputs": [
    {
     "data": {
      "text/html": [
       "<div>\n",
       "<style scoped>\n",
       "    .dataframe tbody tr th:only-of-type {\n",
       "        vertical-align: middle;\n",
       "    }\n",
       "\n",
       "    .dataframe tbody tr th {\n",
       "        vertical-align: top;\n",
       "    }\n",
       "\n",
       "    .dataframe thead th {\n",
       "        text-align: right;\n",
       "    }\n",
       "</style>\n",
       "<table border=\"1\" class=\"dataframe\">\n",
       "  <thead>\n",
       "    <tr style=\"text-align: right;\">\n",
       "      <th></th>\n",
       "      <th>first_name</th>\n",
       "      <th>last_name</th>\n",
       "      <th>gender</th>\n",
       "      <th>past_3_years_bike_related_purchases</th>\n",
       "      <th>DOB</th>\n",
       "      <th>job_title</th>\n",
       "      <th>job_industry_category</th>\n",
       "      <th>wealth_segment</th>\n",
       "      <th>deceased_indicator</th>\n",
       "      <th>owns_car</th>\n",
       "      <th>...</th>\n",
       "      <th>state</th>\n",
       "      <th>country</th>\n",
       "      <th>property_valuation</th>\n",
       "      <th>Unnamed: 16</th>\n",
       "      <th>Unnamed: 17</th>\n",
       "      <th>Unnamed: 18</th>\n",
       "      <th>Unnamed: 19</th>\n",
       "      <th>Unnamed: 20</th>\n",
       "      <th>Rank</th>\n",
       "      <th>Value</th>\n",
       "    </tr>\n",
       "  </thead>\n",
       "  <tbody>\n",
       "    <tr>\n",
       "      <th>0</th>\n",
       "      <td>Chickie</td>\n",
       "      <td>Brister</td>\n",
       "      <td>Male</td>\n",
       "      <td>86</td>\n",
       "      <td>1957-07-12</td>\n",
       "      <td>General Manager</td>\n",
       "      <td>Manufacturing</td>\n",
       "      <td>Mass Customer</td>\n",
       "      <td>N</td>\n",
       "      <td>Yes</td>\n",
       "      <td>...</td>\n",
       "      <td>QLD</td>\n",
       "      <td>Australia</td>\n",
       "      <td>6</td>\n",
       "      <td>0.70</td>\n",
       "      <td>0.8750</td>\n",
       "      <td>1.09375</td>\n",
       "      <td>0.929688</td>\n",
       "      <td>1</td>\n",
       "      <td>1</td>\n",
       "      <td>1.718750</td>\n",
       "    </tr>\n",
       "    <tr>\n",
       "      <th>1</th>\n",
       "      <td>Morly</td>\n",
       "      <td>Genery</td>\n",
       "      <td>Male</td>\n",
       "      <td>69</td>\n",
       "      <td>1970-03-22</td>\n",
       "      <td>Structural Engineer</td>\n",
       "      <td>Property</td>\n",
       "      <td>Mass Customer</td>\n",
       "      <td>N</td>\n",
       "      <td>No</td>\n",
       "      <td>...</td>\n",
       "      <td>NSW</td>\n",
       "      <td>Australia</td>\n",
       "      <td>11</td>\n",
       "      <td>0.69</td>\n",
       "      <td>0.6900</td>\n",
       "      <td>0.86250</td>\n",
       "      <td>0.733125</td>\n",
       "      <td>1</td>\n",
       "      <td>1</td>\n",
       "      <td>1.718750</td>\n",
       "    </tr>\n",
       "    <tr>\n",
       "      <th>2</th>\n",
       "      <td>Ardelis</td>\n",
       "      <td>Forrester</td>\n",
       "      <td>Female</td>\n",
       "      <td>10</td>\n",
       "      <td>1974-08-28</td>\n",
       "      <td>Senior Cost Accountant</td>\n",
       "      <td>Financial Services</td>\n",
       "      <td>Affluent Customer</td>\n",
       "      <td>N</td>\n",
       "      <td>No</td>\n",
       "      <td>...</td>\n",
       "      <td>VIC</td>\n",
       "      <td>Australia</td>\n",
       "      <td>5</td>\n",
       "      <td>0.57</td>\n",
       "      <td>0.5700</td>\n",
       "      <td>0.57000</td>\n",
       "      <td>0.570000</td>\n",
       "      <td>1</td>\n",
       "      <td>1</td>\n",
       "      <td>1.718750</td>\n",
       "    </tr>\n",
       "    <tr>\n",
       "      <th>3</th>\n",
       "      <td>Lucine</td>\n",
       "      <td>Stutt</td>\n",
       "      <td>Female</td>\n",
       "      <td>64</td>\n",
       "      <td>1979-01-28</td>\n",
       "      <td>Account Representative III</td>\n",
       "      <td>Manufacturing</td>\n",
       "      <td>Affluent Customer</td>\n",
       "      <td>N</td>\n",
       "      <td>Yes</td>\n",
       "      <td>...</td>\n",
       "      <td>QLD</td>\n",
       "      <td>Australia</td>\n",
       "      <td>1</td>\n",
       "      <td>0.77</td>\n",
       "      <td>0.9625</td>\n",
       "      <td>0.96250</td>\n",
       "      <td>0.962500</td>\n",
       "      <td>4</td>\n",
       "      <td>4</td>\n",
       "      <td>1.703125</td>\n",
       "    </tr>\n",
       "    <tr>\n",
       "      <th>4</th>\n",
       "      <td>Melinda</td>\n",
       "      <td>Hadlee</td>\n",
       "      <td>Female</td>\n",
       "      <td>34</td>\n",
       "      <td>1965-09-21</td>\n",
       "      <td>Financial Analyst</td>\n",
       "      <td>Financial Services</td>\n",
       "      <td>Affluent Customer</td>\n",
       "      <td>N</td>\n",
       "      <td>No</td>\n",
       "      <td>...</td>\n",
       "      <td>NSW</td>\n",
       "      <td>Australia</td>\n",
       "      <td>9</td>\n",
       "      <td>0.97</td>\n",
       "      <td>0.9700</td>\n",
       "      <td>1.21250</td>\n",
       "      <td>1.212500</td>\n",
       "      <td>4</td>\n",
       "      <td>4</td>\n",
       "      <td>1.703125</td>\n",
       "    </tr>\n",
       "    <tr>\n",
       "      <th>...</th>\n",
       "      <td>...</td>\n",
       "      <td>...</td>\n",
       "      <td>...</td>\n",
       "      <td>...</td>\n",
       "      <td>...</td>\n",
       "      <td>...</td>\n",
       "      <td>...</td>\n",
       "      <td>...</td>\n",
       "      <td>...</td>\n",
       "      <td>...</td>\n",
       "      <td>...</td>\n",
       "      <td>...</td>\n",
       "      <td>...</td>\n",
       "      <td>...</td>\n",
       "      <td>...</td>\n",
       "      <td>...</td>\n",
       "      <td>...</td>\n",
       "      <td>...</td>\n",
       "      <td>...</td>\n",
       "      <td>...</td>\n",
       "      <td>...</td>\n",
       "    </tr>\n",
       "    <tr>\n",
       "      <th>995</th>\n",
       "      <td>Ferdinand</td>\n",
       "      <td>Romanetti</td>\n",
       "      <td>Male</td>\n",
       "      <td>60</td>\n",
       "      <td>1959-10-07</td>\n",
       "      <td>Paralegal</td>\n",
       "      <td>Financial Services</td>\n",
       "      <td>Affluent Customer</td>\n",
       "      <td>N</td>\n",
       "      <td>No</td>\n",
       "      <td>...</td>\n",
       "      <td>NSW</td>\n",
       "      <td>Australia</td>\n",
       "      <td>7</td>\n",
       "      <td>1.07</td>\n",
       "      <td>1.0700</td>\n",
       "      <td>1.07000</td>\n",
       "      <td>1.070000</td>\n",
       "      <td>996</td>\n",
       "      <td>996</td>\n",
       "      <td>0.374000</td>\n",
       "    </tr>\n",
       "    <tr>\n",
       "      <th>996</th>\n",
       "      <td>Burk</td>\n",
       "      <td>Wortley</td>\n",
       "      <td>Male</td>\n",
       "      <td>22</td>\n",
       "      <td>2001-10-17</td>\n",
       "      <td>Senior Sales Associate</td>\n",
       "      <td>Health</td>\n",
       "      <td>Mass Customer</td>\n",
       "      <td>N</td>\n",
       "      <td>No</td>\n",
       "      <td>...</td>\n",
       "      <td>NSW</td>\n",
       "      <td>Australia</td>\n",
       "      <td>10</td>\n",
       "      <td>0.83</td>\n",
       "      <td>0.8300</td>\n",
       "      <td>1.03750</td>\n",
       "      <td>0.881875</td>\n",
       "      <td>997</td>\n",
       "      <td>997</td>\n",
       "      <td>0.357000</td>\n",
       "    </tr>\n",
       "    <tr>\n",
       "      <th>997</th>\n",
       "      <td>Melloney</td>\n",
       "      <td>Temby</td>\n",
       "      <td>Female</td>\n",
       "      <td>17</td>\n",
       "      <td>1954-10-05</td>\n",
       "      <td>Budget/Accounting Analyst IV</td>\n",
       "      <td>Financial Services</td>\n",
       "      <td>Affluent Customer</td>\n",
       "      <td>N</td>\n",
       "      <td>Yes</td>\n",
       "      <td>...</td>\n",
       "      <td>QLD</td>\n",
       "      <td>Australia</td>\n",
       "      <td>2</td>\n",
       "      <td>1.03</td>\n",
       "      <td>1.2875</td>\n",
       "      <td>1.28750</td>\n",
       "      <td>1.287500</td>\n",
       "      <td>997</td>\n",
       "      <td>997</td>\n",
       "      <td>0.357000</td>\n",
       "    </tr>\n",
       "    <tr>\n",
       "      <th>998</th>\n",
       "      <td>Dickie</td>\n",
       "      <td>Cubbini</td>\n",
       "      <td>Male</td>\n",
       "      <td>30</td>\n",
       "      <td>1952-12-17</td>\n",
       "      <td>Financial Advisor</td>\n",
       "      <td>Financial Services</td>\n",
       "      <td>Mass Customer</td>\n",
       "      <td>N</td>\n",
       "      <td>Yes</td>\n",
       "      <td>...</td>\n",
       "      <td>QLD</td>\n",
       "      <td>Australia</td>\n",
       "      <td>2</td>\n",
       "      <td>0.84</td>\n",
       "      <td>1.0500</td>\n",
       "      <td>1.05000</td>\n",
       "      <td>0.892500</td>\n",
       "      <td>997</td>\n",
       "      <td>997</td>\n",
       "      <td>0.357000</td>\n",
       "    </tr>\n",
       "    <tr>\n",
       "      <th>999</th>\n",
       "      <td>Sylas</td>\n",
       "      <td>Duffill</td>\n",
       "      <td>Male</td>\n",
       "      <td>56</td>\n",
       "      <td>1955-10-02</td>\n",
       "      <td>Staff Accountant IV</td>\n",
       "      <td>Property</td>\n",
       "      <td>Mass Customer</td>\n",
       "      <td>N</td>\n",
       "      <td>Yes</td>\n",
       "      <td>...</td>\n",
       "      <td>NSW</td>\n",
       "      <td>Australia</td>\n",
       "      <td>9</td>\n",
       "      <td>1.10</td>\n",
       "      <td>1.3750</td>\n",
       "      <td>1.71875</td>\n",
       "      <td>1.460938</td>\n",
       "      <td>1000</td>\n",
       "      <td>1000</td>\n",
       "      <td>0.340000</td>\n",
       "    </tr>\n",
       "  </tbody>\n",
       "</table>\n",
       "<p>1000 rows × 23 columns</p>\n",
       "</div>"
      ],
      "text/plain": [
       "    first_name  last_name  gender  past_3_years_bike_related_purchases  \\\n",
       "0      Chickie    Brister    Male                                   86   \n",
       "1        Morly     Genery    Male                                   69   \n",
       "2      Ardelis  Forrester  Female                                   10   \n",
       "3       Lucine      Stutt  Female                                   64   \n",
       "4      Melinda     Hadlee  Female                                   34   \n",
       "..         ...        ...     ...                                  ...   \n",
       "995  Ferdinand  Romanetti    Male                                   60   \n",
       "996       Burk    Wortley    Male                                   22   \n",
       "997   Melloney      Temby  Female                                   17   \n",
       "998     Dickie    Cubbini    Male                                   30   \n",
       "999      Sylas    Duffill    Male                                   56   \n",
       "\n",
       "           DOB                     job_title job_industry_category  \\\n",
       "0   1957-07-12               General Manager         Manufacturing   \n",
       "1   1970-03-22           Structural Engineer              Property   \n",
       "2   1974-08-28        Senior Cost Accountant    Financial Services   \n",
       "3   1979-01-28    Account Representative III         Manufacturing   \n",
       "4   1965-09-21             Financial Analyst    Financial Services   \n",
       "..         ...                           ...                   ...   \n",
       "995 1959-10-07                     Paralegal    Financial Services   \n",
       "996 2001-10-17        Senior Sales Associate                Health   \n",
       "997 1954-10-05  Budget/Accounting Analyst IV    Financial Services   \n",
       "998 1952-12-17             Financial Advisor    Financial Services   \n",
       "999 1955-10-02           Staff Accountant IV              Property   \n",
       "\n",
       "        wealth_segment deceased_indicator owns_car  ...  state    country  \\\n",
       "0        Mass Customer                  N      Yes  ...    QLD  Australia   \n",
       "1        Mass Customer                  N       No  ...    NSW  Australia   \n",
       "2    Affluent Customer                  N       No  ...    VIC  Australia   \n",
       "3    Affluent Customer                  N      Yes  ...    QLD  Australia   \n",
       "4    Affluent Customer                  N       No  ...    NSW  Australia   \n",
       "..                 ...                ...      ...  ...    ...        ...   \n",
       "995  Affluent Customer                  N       No  ...    NSW  Australia   \n",
       "996      Mass Customer                  N       No  ...    NSW  Australia   \n",
       "997  Affluent Customer                  N      Yes  ...    QLD  Australia   \n",
       "998      Mass Customer                  N      Yes  ...    QLD  Australia   \n",
       "999      Mass Customer                  N      Yes  ...    NSW  Australia   \n",
       "\n",
       "     property_valuation Unnamed: 16 Unnamed: 17  Unnamed: 18  Unnamed: 19  \\\n",
       "0                     6        0.70      0.8750      1.09375     0.929688   \n",
       "1                    11        0.69      0.6900      0.86250     0.733125   \n",
       "2                     5        0.57      0.5700      0.57000     0.570000   \n",
       "3                     1        0.77      0.9625      0.96250     0.962500   \n",
       "4                     9        0.97      0.9700      1.21250     1.212500   \n",
       "..                  ...         ...         ...          ...          ...   \n",
       "995                   7        1.07      1.0700      1.07000     1.070000   \n",
       "996                  10        0.83      0.8300      1.03750     0.881875   \n",
       "997                   2        1.03      1.2875      1.28750     1.287500   \n",
       "998                   2        0.84      1.0500      1.05000     0.892500   \n",
       "999                   9        1.10      1.3750      1.71875     1.460938   \n",
       "\n",
       "     Unnamed: 20  Rank     Value  \n",
       "0              1     1  1.718750  \n",
       "1              1     1  1.718750  \n",
       "2              1     1  1.718750  \n",
       "3              4     4  1.703125  \n",
       "4              4     4  1.703125  \n",
       "..           ...   ...       ...  \n",
       "995          996   996  0.374000  \n",
       "996          997   997  0.357000  \n",
       "997          997   997  0.357000  \n",
       "998          997   997  0.357000  \n",
       "999         1000  1000  0.340000  \n",
       "\n",
       "[1000 rows x 23 columns]"
      ]
     },
     "execution_count": 3,
     "metadata": {},
     "output_type": "execute_result"
    }
   ],
   "source": [
    "clients1 = df['NewClients']\n",
    "clients1"
   ]
  },
  {
   "cell_type": "code",
   "execution_count": 4,
   "id": "cdfca9c1",
   "metadata": {},
   "outputs": [
    {
     "name": "stdout",
     "output_type": "stream",
     "text": [
      "<class 'pandas.core.frame.DataFrame'>\n",
      "RangeIndex: 1000 entries, 0 to 999\n",
      "Data columns (total 23 columns):\n",
      " #   Column                               Non-Null Count  Dtype         \n",
      "---  ------                               --------------  -----         \n",
      " 0   first_name                           1000 non-null   object        \n",
      " 1   last_name                            971 non-null    object        \n",
      " 2   gender                               1000 non-null   object        \n",
      " 3   past_3_years_bike_related_purchases  1000 non-null   int64         \n",
      " 4   DOB                                  983 non-null    datetime64[ns]\n",
      " 5   job_title                            894 non-null    object        \n",
      " 6   job_industry_category                835 non-null    object        \n",
      " 7   wealth_segment                       1000 non-null   object        \n",
      " 8   deceased_indicator                   1000 non-null   object        \n",
      " 9   owns_car                             1000 non-null   object        \n",
      " 10  tenure                               1000 non-null   int64         \n",
      " 11  address                              1000 non-null   object        \n",
      " 12  postcode                             1000 non-null   int64         \n",
      " 13  state                                1000 non-null   object        \n",
      " 14  country                              1000 non-null   object        \n",
      " 15  property_valuation                   1000 non-null   int64         \n",
      " 16  Unnamed: 16                          1000 non-null   float64       \n",
      " 17  Unnamed: 17                          1000 non-null   float64       \n",
      " 18  Unnamed: 18                          1000 non-null   float64       \n",
      " 19  Unnamed: 19                          1000 non-null   float64       \n",
      " 20  Unnamed: 20                          1000 non-null   int64         \n",
      " 21  Rank                                 1000 non-null   int64         \n",
      " 22  Value                                1000 non-null   float64       \n",
      "dtypes: datetime64[ns](1), float64(5), int64(6), object(11)\n",
      "memory usage: 179.8+ KB\n"
     ]
    }
   ],
   "source": [
    "clients1.info()"
   ]
  },
  {
   "cell_type": "code",
   "execution_count": 5,
   "id": "d6462e53",
   "metadata": {},
   "outputs": [
    {
     "data": {
      "text/html": [
       "<div>\n",
       "<style scoped>\n",
       "    .dataframe tbody tr th:only-of-type {\n",
       "        vertical-align: middle;\n",
       "    }\n",
       "\n",
       "    .dataframe tbody tr th {\n",
       "        vertical-align: top;\n",
       "    }\n",
       "\n",
       "    .dataframe thead th {\n",
       "        text-align: right;\n",
       "    }\n",
       "</style>\n",
       "<table border=\"1\" class=\"dataframe\">\n",
       "  <thead>\n",
       "    <tr style=\"text-align: right;\">\n",
       "      <th></th>\n",
       "      <th>past_3_years_bike_related_purchases</th>\n",
       "      <th>tenure</th>\n",
       "      <th>postcode</th>\n",
       "      <th>property_valuation</th>\n",
       "      <th>Unnamed: 16</th>\n",
       "      <th>Unnamed: 17</th>\n",
       "      <th>Unnamed: 18</th>\n",
       "      <th>Unnamed: 19</th>\n",
       "      <th>Unnamed: 20</th>\n",
       "      <th>Rank</th>\n",
       "      <th>Value</th>\n",
       "    </tr>\n",
       "  </thead>\n",
       "  <tbody>\n",
       "    <tr>\n",
       "      <th>count</th>\n",
       "      <td>1000.000000</td>\n",
       "      <td>1000.000000</td>\n",
       "      <td>1000.000000</td>\n",
       "      <td>1000.000000</td>\n",
       "      <td>1000.000000</td>\n",
       "      <td>1000.000000</td>\n",
       "      <td>1000.000000</td>\n",
       "      <td>1000.000000</td>\n",
       "      <td>1000.000000</td>\n",
       "      <td>1000.000000</td>\n",
       "      <td>1000.000000</td>\n",
       "    </tr>\n",
       "    <tr>\n",
       "      <th>mean</th>\n",
       "      <td>49.836000</td>\n",
       "      <td>11.388000</td>\n",
       "      <td>3019.227000</td>\n",
       "      <td>7.397000</td>\n",
       "      <td>0.751790</td>\n",
       "      <td>0.844793</td>\n",
       "      <td>0.951047</td>\n",
       "      <td>0.878084</td>\n",
       "      <td>498.819000</td>\n",
       "      <td>498.819000</td>\n",
       "      <td>0.881714</td>\n",
       "    </tr>\n",
       "    <tr>\n",
       "      <th>std</th>\n",
       "      <td>27.796686</td>\n",
       "      <td>5.037145</td>\n",
       "      <td>848.895767</td>\n",
       "      <td>2.758804</td>\n",
       "      <td>0.206927</td>\n",
       "      <td>0.253216</td>\n",
       "      <td>0.305951</td>\n",
       "      <td>0.290575</td>\n",
       "      <td>288.810997</td>\n",
       "      <td>288.810997</td>\n",
       "      <td>0.293525</td>\n",
       "    </tr>\n",
       "    <tr>\n",
       "      <th>min</th>\n",
       "      <td>0.000000</td>\n",
       "      <td>0.000000</td>\n",
       "      <td>2000.000000</td>\n",
       "      <td>1.000000</td>\n",
       "      <td>0.400000</td>\n",
       "      <td>0.400000</td>\n",
       "      <td>0.400000</td>\n",
       "      <td>0.340000</td>\n",
       "      <td>1.000000</td>\n",
       "      <td>1.000000</td>\n",
       "      <td>0.340000</td>\n",
       "    </tr>\n",
       "    <tr>\n",
       "      <th>25%</th>\n",
       "      <td>26.750000</td>\n",
       "      <td>7.000000</td>\n",
       "      <td>2209.000000</td>\n",
       "      <td>6.000000</td>\n",
       "      <td>0.580000</td>\n",
       "      <td>0.625000</td>\n",
       "      <td>0.700000</td>\n",
       "      <td>0.653375</td>\n",
       "      <td>250.000000</td>\n",
       "      <td>250.000000</td>\n",
       "      <td>0.649531</td>\n",
       "    </tr>\n",
       "    <tr>\n",
       "      <th>50%</th>\n",
       "      <td>51.000000</td>\n",
       "      <td>11.000000</td>\n",
       "      <td>2800.000000</td>\n",
       "      <td>8.000000</td>\n",
       "      <td>0.740000</td>\n",
       "      <td>0.837500</td>\n",
       "      <td>0.925000</td>\n",
       "      <td>0.850000</td>\n",
       "      <td>500.000000</td>\n",
       "      <td>500.000000</td>\n",
       "      <td>0.860000</td>\n",
       "    </tr>\n",
       "    <tr>\n",
       "      <th>75%</th>\n",
       "      <td>72.000000</td>\n",
       "      <td>15.000000</td>\n",
       "      <td>3845.500000</td>\n",
       "      <td>9.000000</td>\n",
       "      <td>0.930000</td>\n",
       "      <td>1.030000</td>\n",
       "      <td>1.171875</td>\n",
       "      <td>1.075000</td>\n",
       "      <td>750.250000</td>\n",
       "      <td>750.250000</td>\n",
       "      <td>1.075000</td>\n",
       "    </tr>\n",
       "    <tr>\n",
       "      <th>max</th>\n",
       "      <td>99.000000</td>\n",
       "      <td>22.000000</td>\n",
       "      <td>4879.000000</td>\n",
       "      <td>12.000000</td>\n",
       "      <td>1.100000</td>\n",
       "      <td>1.375000</td>\n",
       "      <td>1.718750</td>\n",
       "      <td>1.718750</td>\n",
       "      <td>1000.000000</td>\n",
       "      <td>1000.000000</td>\n",
       "      <td>1.718750</td>\n",
       "    </tr>\n",
       "  </tbody>\n",
       "</table>\n",
       "</div>"
      ],
      "text/plain": [
       "       past_3_years_bike_related_purchases       tenure     postcode  \\\n",
       "count                          1000.000000  1000.000000  1000.000000   \n",
       "mean                             49.836000    11.388000  3019.227000   \n",
       "std                              27.796686     5.037145   848.895767   \n",
       "min                               0.000000     0.000000  2000.000000   \n",
       "25%                              26.750000     7.000000  2209.000000   \n",
       "50%                              51.000000    11.000000  2800.000000   \n",
       "75%                              72.000000    15.000000  3845.500000   \n",
       "max                              99.000000    22.000000  4879.000000   \n",
       "\n",
       "       property_valuation  Unnamed: 16  Unnamed: 17  Unnamed: 18  Unnamed: 19  \\\n",
       "count         1000.000000  1000.000000  1000.000000  1000.000000  1000.000000   \n",
       "mean             7.397000     0.751790     0.844793     0.951047     0.878084   \n",
       "std              2.758804     0.206927     0.253216     0.305951     0.290575   \n",
       "min              1.000000     0.400000     0.400000     0.400000     0.340000   \n",
       "25%              6.000000     0.580000     0.625000     0.700000     0.653375   \n",
       "50%              8.000000     0.740000     0.837500     0.925000     0.850000   \n",
       "75%              9.000000     0.930000     1.030000     1.171875     1.075000   \n",
       "max             12.000000     1.100000     1.375000     1.718750     1.718750   \n",
       "\n",
       "       Unnamed: 20         Rank        Value  \n",
       "count  1000.000000  1000.000000  1000.000000  \n",
       "mean    498.819000   498.819000     0.881714  \n",
       "std     288.810997   288.810997     0.293525  \n",
       "min       1.000000     1.000000     0.340000  \n",
       "25%     250.000000   250.000000     0.649531  \n",
       "50%     500.000000   500.000000     0.860000  \n",
       "75%     750.250000   750.250000     1.075000  \n",
       "max    1000.000000  1000.000000     1.718750  "
      ]
     },
     "execution_count": 5,
     "metadata": {},
     "output_type": "execute_result"
    }
   ],
   "source": [
    "clients1.describe()"
   ]
  },
  {
   "cell_type": "code",
   "execution_count": null,
   "id": "f09808bf",
   "metadata": {},
   "outputs": [],
   "source": []
  },
  {
   "cell_type": "markdown",
   "id": "dd1eb72e",
   "metadata": {},
   "source": [
    "## To begin data cleaning, we check for data types and missing values"
   ]
  },
  {
   "cell_type": "code",
   "execution_count": 6,
   "id": "26488893",
   "metadata": {},
   "outputs": [
    {
     "data": {
      "text/plain": [
       "first_name                                     object\n",
       "last_name                                      object\n",
       "gender                                         object\n",
       "past_3_years_bike_related_purchases             int64\n",
       "DOB                                    datetime64[ns]\n",
       "job_title                                      object\n",
       "job_industry_category                          object\n",
       "wealth_segment                                 object\n",
       "deceased_indicator                             object\n",
       "owns_car                                       object\n",
       "tenure                                          int64\n",
       "address                                        object\n",
       "postcode                                        int64\n",
       "state                                          object\n",
       "country                                        object\n",
       "property_valuation                              int64\n",
       "Unnamed: 16                                   float64\n",
       "Unnamed: 17                                   float64\n",
       "Unnamed: 18                                   float64\n",
       "Unnamed: 19                                   float64\n",
       "Unnamed: 20                                     int64\n",
       "Rank                                            int64\n",
       "Value                                         float64\n",
       "dtype: object"
      ]
     },
     "execution_count": 6,
     "metadata": {},
     "output_type": "execute_result"
    }
   ],
   "source": [
    "clients1.dtypes"
   ]
  },
  {
   "cell_type": "code",
   "execution_count": 7,
   "id": "a6119c8e",
   "metadata": {},
   "outputs": [
    {
     "data": {
      "text/plain": [
       "first_name                               0\n",
       "last_name                               29\n",
       "gender                                   0\n",
       "past_3_years_bike_related_purchases      0\n",
       "DOB                                     17\n",
       "job_title                              106\n",
       "job_industry_category                  165\n",
       "wealth_segment                           0\n",
       "deceased_indicator                       0\n",
       "owns_car                                 0\n",
       "tenure                                   0\n",
       "address                                  0\n",
       "postcode                                 0\n",
       "state                                    0\n",
       "country                                  0\n",
       "property_valuation                       0\n",
       "Unnamed: 16                              0\n",
       "Unnamed: 17                              0\n",
       "Unnamed: 18                              0\n",
       "Unnamed: 19                              0\n",
       "Unnamed: 20                              0\n",
       "Rank                                     0\n",
       "Value                                    0\n",
       "dtype: int64"
      ]
     },
     "execution_count": 7,
     "metadata": {},
     "output_type": "execute_result"
    }
   ],
   "source": [
    "clients1.isna().sum()"
   ]
  },
  {
   "cell_type": "markdown",
   "id": "35bb6f01",
   "metadata": {},
   "source": [
    "## There are missing values in columns: last_name, DOB, job_title and job_industry_category \n",
    "\n",
    "## For the purpose of this analysis, I will drop thee first_name, last_name, decreased_indicator, Address, postcode,country, rank and value.\n",
    "\n",
    "## Reasons:\n",
    "* first_name, last_name, postcode and adrress are personal information\n",
    "* the decreased indicator is a genaral N\n",
    "* contry has nor relevance because they aare all autralia\n",
    "* Rank and value rates from 1 ro 1000, they don't infer with the analysis\n",
    "\n",
    "## NOTE:\n",
    "The column names Unnamed's are irrelevant to this analysis, those information are viod."
   ]
  },
  {
   "cell_type": "code",
   "execution_count": 8,
   "id": "2105ee8a",
   "metadata": {},
   "outputs": [],
   "source": [
    "# Dropping some of the columns\n",
    "n_clients1 = clients1.drop(['first_name', 'last_name', 'address', 'postcode', 'deceased_indicator',\n",
    "                            'Unnamed: 16','Unnamed: 17', 'Unnamed: 18', 'Unnamed: 19',\n",
    "                            'Unnamed: 20', 'country', 'Rank', 'Value'], axis = 1)"
   ]
  },
  {
   "cell_type": "code",
   "execution_count": 9,
   "id": "3f55ce1c",
   "metadata": {},
   "outputs": [],
   "source": [
    "# remane the past_3_year\n",
    "n_clients1.rename(columns={'past_3_years_bike_related_purchases': 'bike_purchase'}, inplace=True)"
   ]
  },
  {
   "cell_type": "code",
   "execution_count": 10,
   "id": "94c5c08f",
   "metadata": {},
   "outputs": [
    {
     "data": {
      "text/html": [
       "<div>\n",
       "<style scoped>\n",
       "    .dataframe tbody tr th:only-of-type {\n",
       "        vertical-align: middle;\n",
       "    }\n",
       "\n",
       "    .dataframe tbody tr th {\n",
       "        vertical-align: top;\n",
       "    }\n",
       "\n",
       "    .dataframe thead th {\n",
       "        text-align: right;\n",
       "    }\n",
       "</style>\n",
       "<table border=\"1\" class=\"dataframe\">\n",
       "  <thead>\n",
       "    <tr style=\"text-align: right;\">\n",
       "      <th></th>\n",
       "      <th>gender</th>\n",
       "      <th>bike_purchase</th>\n",
       "      <th>DOB</th>\n",
       "      <th>job_title</th>\n",
       "      <th>job_industry_category</th>\n",
       "      <th>wealth_segment</th>\n",
       "      <th>owns_car</th>\n",
       "      <th>tenure</th>\n",
       "      <th>state</th>\n",
       "      <th>property_valuation</th>\n",
       "    </tr>\n",
       "  </thead>\n",
       "  <tbody>\n",
       "    <tr>\n",
       "      <th>0</th>\n",
       "      <td>Male</td>\n",
       "      <td>86</td>\n",
       "      <td>1957-07-12</td>\n",
       "      <td>General Manager</td>\n",
       "      <td>Manufacturing</td>\n",
       "      <td>Mass Customer</td>\n",
       "      <td>Yes</td>\n",
       "      <td>14</td>\n",
       "      <td>QLD</td>\n",
       "      <td>6</td>\n",
       "    </tr>\n",
       "    <tr>\n",
       "      <th>1</th>\n",
       "      <td>Male</td>\n",
       "      <td>69</td>\n",
       "      <td>1970-03-22</td>\n",
       "      <td>Structural Engineer</td>\n",
       "      <td>Property</td>\n",
       "      <td>Mass Customer</td>\n",
       "      <td>No</td>\n",
       "      <td>16</td>\n",
       "      <td>NSW</td>\n",
       "      <td>11</td>\n",
       "    </tr>\n",
       "    <tr>\n",
       "      <th>2</th>\n",
       "      <td>Female</td>\n",
       "      <td>10</td>\n",
       "      <td>1974-08-28</td>\n",
       "      <td>Senior Cost Accountant</td>\n",
       "      <td>Financial Services</td>\n",
       "      <td>Affluent Customer</td>\n",
       "      <td>No</td>\n",
       "      <td>10</td>\n",
       "      <td>VIC</td>\n",
       "      <td>5</td>\n",
       "    </tr>\n",
       "    <tr>\n",
       "      <th>3</th>\n",
       "      <td>Female</td>\n",
       "      <td>64</td>\n",
       "      <td>1979-01-28</td>\n",
       "      <td>Account Representative III</td>\n",
       "      <td>Manufacturing</td>\n",
       "      <td>Affluent Customer</td>\n",
       "      <td>Yes</td>\n",
       "      <td>5</td>\n",
       "      <td>QLD</td>\n",
       "      <td>1</td>\n",
       "    </tr>\n",
       "    <tr>\n",
       "      <th>4</th>\n",
       "      <td>Female</td>\n",
       "      <td>34</td>\n",
       "      <td>1965-09-21</td>\n",
       "      <td>Financial Analyst</td>\n",
       "      <td>Financial Services</td>\n",
       "      <td>Affluent Customer</td>\n",
       "      <td>No</td>\n",
       "      <td>19</td>\n",
       "      <td>NSW</td>\n",
       "      <td>9</td>\n",
       "    </tr>\n",
       "  </tbody>\n",
       "</table>\n",
       "</div>"
      ],
      "text/plain": [
       "   gender  bike_purchase        DOB                   job_title  \\\n",
       "0    Male             86 1957-07-12             General Manager   \n",
       "1    Male             69 1970-03-22         Structural Engineer   \n",
       "2  Female             10 1974-08-28      Senior Cost Accountant   \n",
       "3  Female             64 1979-01-28  Account Representative III   \n",
       "4  Female             34 1965-09-21           Financial Analyst   \n",
       "\n",
       "  job_industry_category     wealth_segment owns_car  tenure state  \\\n",
       "0         Manufacturing      Mass Customer      Yes      14   QLD   \n",
       "1              Property      Mass Customer       No      16   NSW   \n",
       "2    Financial Services  Affluent Customer       No      10   VIC   \n",
       "3         Manufacturing  Affluent Customer      Yes       5   QLD   \n",
       "4    Financial Services  Affluent Customer       No      19   NSW   \n",
       "\n",
       "   property_valuation  \n",
       "0                   6  \n",
       "1                  11  \n",
       "2                   5  \n",
       "3                   1  \n",
       "4                   9  "
      ]
     },
     "execution_count": 10,
     "metadata": {},
     "output_type": "execute_result"
    }
   ],
   "source": [
    "n_clients1.head()"
   ]
  },
  {
   "cell_type": "markdown",
   "id": "8631d279",
   "metadata": {},
   "source": [
    "## Explore the values in each columns to get an idea of their inputs"
   ]
  },
  {
   "cell_type": "code",
   "execution_count": 11,
   "id": "210f1e94",
   "metadata": {},
   "outputs": [
    {
     "data": {
      "text/plain": [
       "array(['Mass Customer', 'Affluent Customer', 'High Net Worth'],\n",
       "      dtype=object)"
      ]
     },
     "execution_count": 11,
     "metadata": {},
     "output_type": "execute_result"
    }
   ],
   "source": [
    "n_clients1['wealth_segment'].unique()"
   ]
  },
  {
   "cell_type": "code",
   "execution_count": 12,
   "id": "06c2deae",
   "metadata": {},
   "outputs": [
    {
     "data": {
      "text/plain": [
       "array(['Male', 'Female', 'U'], dtype=object)"
      ]
     },
     "execution_count": 12,
     "metadata": {},
     "output_type": "execute_result"
    }
   ],
   "source": [
    "n_clients1['gender'].unique()"
   ]
  },
  {
   "cell_type": "code",
   "execution_count": 44,
   "id": "2701bd74",
   "metadata": {},
   "outputs": [
    {
     "data": {
      "text/plain": [
       "array(['Yes', 'No'], dtype=object)"
      ]
     },
     "execution_count": 44,
     "metadata": {},
     "output_type": "execute_result"
    }
   ],
   "source": [
    "n_clients1['owns_car'].unique()"
   ]
  },
  {
   "cell_type": "code",
   "execution_count": 45,
   "id": "381f11bb",
   "metadata": {},
   "outputs": [
    {
     "data": {
      "text/plain": [
       "array(['QLD', 'NSW', 'VIC'], dtype=object)"
      ]
     },
     "execution_count": 45,
     "metadata": {},
     "output_type": "execute_result"
    }
   ],
   "source": [
    "n_clients1['state'].unique()"
   ]
  },
  {
   "cell_type": "code",
   "execution_count": 14,
   "id": "608d9962",
   "metadata": {},
   "outputs": [
    {
     "data": {
      "text/plain": [
       "array(['Manufacturing', 'Property', 'Financial Services', 'Entertainment',\n",
       "       'Retail', 'IT', 'Telecommunications', 'Health', nan, 'Argiculture'],\n",
       "      dtype=object)"
      ]
     },
     "execution_count": 14,
     "metadata": {},
     "output_type": "execute_result"
    }
   ],
   "source": [
    "n_clients1['job_industry_category'].unique()"
   ]
  },
  {
   "cell_type": "markdown",
   "id": "d9b9265f",
   "metadata": {},
   "source": [
    "# remove nulls and missplelt entries"
   ]
  },
  {
   "cell_type": "code",
   "execution_count": 15,
   "id": "d73d0bc7",
   "metadata": {},
   "outputs": [
    {
     "data": {
      "text/plain": [
       "Int64Index([ 59, 226, 324, 358, 360, 374, 434, 439, 574, 598, 664, 751, 775,\n",
       "            835, 883, 904, 984],\n",
       "           dtype='int64')"
      ]
     },
     "execution_count": 15,
     "metadata": {},
     "output_type": "execute_result"
    }
   ],
   "source": [
    "# from gender remove 'u'\n",
    "\n",
    "u = n_clients1[(n_clients1['gender'] == 'U')].index\n",
    "u"
   ]
  },
  {
   "cell_type": "code",
   "execution_count": 16,
   "id": "9e607e6e",
   "metadata": {},
   "outputs": [],
   "source": [
    "n_clients1.drop(u, inplace=True)"
   ]
  },
  {
   "cell_type": "code",
   "execution_count": 17,
   "id": "54bfd56b",
   "metadata": {},
   "outputs": [
    {
     "data": {
      "text/plain": [
       "array(['Male', 'Female'], dtype=object)"
      ]
     },
     "execution_count": 17,
     "metadata": {},
     "output_type": "execute_result"
    }
   ],
   "source": [
    "n_clients1['gender'].unique()"
   ]
  },
  {
   "cell_type": "code",
   "execution_count": 18,
   "id": "2cec5740",
   "metadata": {},
   "outputs": [],
   "source": [
    "# drop nulls in DOB, job_title and job_industry_category\n",
    "\n",
    "clean_set = n_clients1.dropna(axis = 0, how = 'any')"
   ]
  },
  {
   "cell_type": "code",
   "execution_count": 19,
   "id": "e478ca0c",
   "metadata": {},
   "outputs": [
    {
     "data": {
      "text/plain": [
       "gender                   0\n",
       "bike_purchase            0\n",
       "DOB                      0\n",
       "job_title                0\n",
       "job_industry_category    0\n",
       "wealth_segment           0\n",
       "owns_car                 0\n",
       "tenure                   0\n",
       "state                    0\n",
       "property_valuation       0\n",
       "dtype: int64"
      ]
     },
     "execution_count": 19,
     "metadata": {},
     "output_type": "execute_result"
    }
   ],
   "source": [
    "# the cleaned datsets\n",
    "clean_set.isna().sum()"
   ]
  },
  {
   "cell_type": "markdown",
   "id": "a7996ecc",
   "metadata": {},
   "source": [
    "### Checking each data types"
   ]
  },
  {
   "cell_type": "code",
   "execution_count": 20,
   "id": "9c924c00",
   "metadata": {},
   "outputs": [
    {
     "data": {
      "text/plain": [
       "gender                           object\n",
       "bike_purchase                     int64\n",
       "DOB                      datetime64[ns]\n",
       "job_title                        object\n",
       "job_industry_category            object\n",
       "wealth_segment                   object\n",
       "owns_car                         object\n",
       "tenure                            int64\n",
       "state                            object\n",
       "property_valuation                int64\n",
       "dtype: object"
      ]
     },
     "execution_count": 20,
     "metadata": {},
     "output_type": "execute_result"
    }
   ],
   "source": [
    "# The data types of the cleaned dataset\n",
    "clean_set.dtypes"
   ]
  },
  {
   "cell_type": "code",
   "execution_count": 21,
   "id": "2d777bde",
   "metadata": {},
   "outputs": [
    {
     "data": {
      "text/html": [
       "<div>\n",
       "<style scoped>\n",
       "    .dataframe tbody tr th:only-of-type {\n",
       "        vertical-align: middle;\n",
       "    }\n",
       "\n",
       "    .dataframe tbody tr th {\n",
       "        vertical-align: top;\n",
       "    }\n",
       "\n",
       "    .dataframe thead th {\n",
       "        text-align: right;\n",
       "    }\n",
       "</style>\n",
       "<table border=\"1\" class=\"dataframe\">\n",
       "  <thead>\n",
       "    <tr style=\"text-align: right;\">\n",
       "      <th></th>\n",
       "      <th>gender</th>\n",
       "      <th>bike_purchase</th>\n",
       "      <th>DOB</th>\n",
       "      <th>job_title</th>\n",
       "      <th>job_industry_category</th>\n",
       "      <th>wealth_segment</th>\n",
       "      <th>owns_car</th>\n",
       "      <th>tenure</th>\n",
       "      <th>state</th>\n",
       "      <th>property_valuation</th>\n",
       "    </tr>\n",
       "  </thead>\n",
       "  <tbody>\n",
       "    <tr>\n",
       "      <th>0</th>\n",
       "      <td>Male</td>\n",
       "      <td>86</td>\n",
       "      <td>1957-07-12</td>\n",
       "      <td>General Manager</td>\n",
       "      <td>Manufacturing</td>\n",
       "      <td>Mass Customer</td>\n",
       "      <td>Yes</td>\n",
       "      <td>14</td>\n",
       "      <td>QLD</td>\n",
       "      <td>6</td>\n",
       "    </tr>\n",
       "    <tr>\n",
       "      <th>1</th>\n",
       "      <td>Male</td>\n",
       "      <td>69</td>\n",
       "      <td>1970-03-22</td>\n",
       "      <td>Structural Engineer</td>\n",
       "      <td>Property</td>\n",
       "      <td>Mass Customer</td>\n",
       "      <td>No</td>\n",
       "      <td>16</td>\n",
       "      <td>NSW</td>\n",
       "      <td>11</td>\n",
       "    </tr>\n",
       "    <tr>\n",
       "      <th>2</th>\n",
       "      <td>Female</td>\n",
       "      <td>10</td>\n",
       "      <td>1974-08-28</td>\n",
       "      <td>Senior Cost Accountant</td>\n",
       "      <td>Financial Services</td>\n",
       "      <td>Affluent Customer</td>\n",
       "      <td>No</td>\n",
       "      <td>10</td>\n",
       "      <td>VIC</td>\n",
       "      <td>5</td>\n",
       "    </tr>\n",
       "    <tr>\n",
       "      <th>3</th>\n",
       "      <td>Female</td>\n",
       "      <td>64</td>\n",
       "      <td>1979-01-28</td>\n",
       "      <td>Account Representative III</td>\n",
       "      <td>Manufacturing</td>\n",
       "      <td>Affluent Customer</td>\n",
       "      <td>Yes</td>\n",
       "      <td>5</td>\n",
       "      <td>QLD</td>\n",
       "      <td>1</td>\n",
       "    </tr>\n",
       "    <tr>\n",
       "      <th>4</th>\n",
       "      <td>Female</td>\n",
       "      <td>34</td>\n",
       "      <td>1965-09-21</td>\n",
       "      <td>Financial Analyst</td>\n",
       "      <td>Financial Services</td>\n",
       "      <td>Affluent Customer</td>\n",
       "      <td>No</td>\n",
       "      <td>19</td>\n",
       "      <td>NSW</td>\n",
       "      <td>9</td>\n",
       "    </tr>\n",
       "    <tr>\n",
       "      <th>...</th>\n",
       "      <td>...</td>\n",
       "      <td>...</td>\n",
       "      <td>...</td>\n",
       "      <td>...</td>\n",
       "      <td>...</td>\n",
       "      <td>...</td>\n",
       "      <td>...</td>\n",
       "      <td>...</td>\n",
       "      <td>...</td>\n",
       "      <td>...</td>\n",
       "    </tr>\n",
       "    <tr>\n",
       "      <th>995</th>\n",
       "      <td>Male</td>\n",
       "      <td>60</td>\n",
       "      <td>1959-10-07</td>\n",
       "      <td>Paralegal</td>\n",
       "      <td>Financial Services</td>\n",
       "      <td>Affluent Customer</td>\n",
       "      <td>No</td>\n",
       "      <td>9</td>\n",
       "      <td>NSW</td>\n",
       "      <td>7</td>\n",
       "    </tr>\n",
       "    <tr>\n",
       "      <th>996</th>\n",
       "      <td>Male</td>\n",
       "      <td>22</td>\n",
       "      <td>2001-10-17</td>\n",
       "      <td>Senior Sales Associate</td>\n",
       "      <td>Health</td>\n",
       "      <td>Mass Customer</td>\n",
       "      <td>No</td>\n",
       "      <td>6</td>\n",
       "      <td>NSW</td>\n",
       "      <td>10</td>\n",
       "    </tr>\n",
       "    <tr>\n",
       "      <th>997</th>\n",
       "      <td>Female</td>\n",
       "      <td>17</td>\n",
       "      <td>1954-10-05</td>\n",
       "      <td>Budget/Accounting Analyst IV</td>\n",
       "      <td>Financial Services</td>\n",
       "      <td>Affluent Customer</td>\n",
       "      <td>Yes</td>\n",
       "      <td>15</td>\n",
       "      <td>QLD</td>\n",
       "      <td>2</td>\n",
       "    </tr>\n",
       "    <tr>\n",
       "      <th>998</th>\n",
       "      <td>Male</td>\n",
       "      <td>30</td>\n",
       "      <td>1952-12-17</td>\n",
       "      <td>Financial Advisor</td>\n",
       "      <td>Financial Services</td>\n",
       "      <td>Mass Customer</td>\n",
       "      <td>Yes</td>\n",
       "      <td>19</td>\n",
       "      <td>QLD</td>\n",
       "      <td>2</td>\n",
       "    </tr>\n",
       "    <tr>\n",
       "      <th>999</th>\n",
       "      <td>Male</td>\n",
       "      <td>56</td>\n",
       "      <td>1955-10-02</td>\n",
       "      <td>Staff Accountant IV</td>\n",
       "      <td>Property</td>\n",
       "      <td>Mass Customer</td>\n",
       "      <td>Yes</td>\n",
       "      <td>14</td>\n",
       "      <td>NSW</td>\n",
       "      <td>9</td>\n",
       "    </tr>\n",
       "  </tbody>\n",
       "</table>\n",
       "<p>735 rows × 10 columns</p>\n",
       "</div>"
      ],
      "text/plain": [
       "     gender  bike_purchase        DOB                     job_title  \\\n",
       "0      Male             86 1957-07-12               General Manager   \n",
       "1      Male             69 1970-03-22           Structural Engineer   \n",
       "2    Female             10 1974-08-28        Senior Cost Accountant   \n",
       "3    Female             64 1979-01-28    Account Representative III   \n",
       "4    Female             34 1965-09-21             Financial Analyst   \n",
       "..      ...            ...        ...                           ...   \n",
       "995    Male             60 1959-10-07                     Paralegal   \n",
       "996    Male             22 2001-10-17        Senior Sales Associate   \n",
       "997  Female             17 1954-10-05  Budget/Accounting Analyst IV   \n",
       "998    Male             30 1952-12-17             Financial Advisor   \n",
       "999    Male             56 1955-10-02           Staff Accountant IV   \n",
       "\n",
       "    job_industry_category     wealth_segment owns_car  tenure state  \\\n",
       "0           Manufacturing      Mass Customer      Yes      14   QLD   \n",
       "1                Property      Mass Customer       No      16   NSW   \n",
       "2      Financial Services  Affluent Customer       No      10   VIC   \n",
       "3           Manufacturing  Affluent Customer      Yes       5   QLD   \n",
       "4      Financial Services  Affluent Customer       No      19   NSW   \n",
       "..                    ...                ...      ...     ...   ...   \n",
       "995    Financial Services  Affluent Customer       No       9   NSW   \n",
       "996                Health      Mass Customer       No       6   NSW   \n",
       "997    Financial Services  Affluent Customer      Yes      15   QLD   \n",
       "998    Financial Services      Mass Customer      Yes      19   QLD   \n",
       "999              Property      Mass Customer      Yes      14   NSW   \n",
       "\n",
       "     property_valuation  \n",
       "0                     6  \n",
       "1                    11  \n",
       "2                     5  \n",
       "3                     1  \n",
       "4                     9  \n",
       "..                  ...  \n",
       "995                   7  \n",
       "996                  10  \n",
       "997                   2  \n",
       "998                   2  \n",
       "999                   9  \n",
       "\n",
       "[735 rows x 10 columns]"
      ]
     },
     "execution_count": 21,
     "metadata": {},
     "output_type": "execute_result"
    }
   ],
   "source": [
    "# The data we are working with conatins 735 rows(observations) and 10 columns(Feilds)\n",
    "clean_set"
   ]
  },
  {
   "cell_type": "code",
   "execution_count": null,
   "id": "91ce9ad0",
   "metadata": {},
   "outputs": [],
   "source": []
  },
  {
   "cell_type": "markdown",
   "id": "f3db3adf",
   "metadata": {},
   "source": [
    "## count relevant columns"
   ]
  },
  {
   "cell_type": "code",
   "execution_count": 22,
   "id": "2e9f1e24",
   "metadata": {},
   "outputs": [
    {
     "data": {
      "text/plain": [
       "Mass Customer        369\n",
       "High Net Worth       184\n",
       "Affluent Customer    182\n",
       "Name: wealth_segment, dtype: int64"
      ]
     },
     "execution_count": 22,
     "metadata": {},
     "output_type": "execute_result"
    }
   ],
   "source": [
    "wealth = clean_set['wealth_segment'].value_counts()\n",
    "wealth"
   ]
  },
  {
   "cell_type": "code",
   "execution_count": 23,
   "id": "af4012c0",
   "metadata": {},
   "outputs": [
    {
     "data": {
      "text/plain": [
       "NSW    364\n",
       "VIC    200\n",
       "QLD    171\n",
       "Name: state, dtype: int64"
      ]
     },
     "execution_count": 23,
     "metadata": {},
     "output_type": "execute_result"
    }
   ],
   "source": [
    "states = clean_set['state'].value_counts()\n",
    "states"
   ]
  },
  {
   "cell_type": "code",
   "execution_count": 24,
   "id": "123baa6c",
   "metadata": {},
   "outputs": [
    {
     "data": {
      "text/plain": [
       "No     376\n",
       "Yes    359\n",
       "Name: owns_car, dtype: int64"
      ]
     },
     "execution_count": 24,
     "metadata": {},
     "output_type": "execute_result"
    }
   ],
   "source": [
    "car_owners= clean_set['owns_car'].value_counts()\n",
    "car_owners"
   ]
  },
  {
   "cell_type": "code",
   "execution_count": 25,
   "id": "5f6b725d",
   "metadata": {},
   "outputs": [
    {
     "data": {
      "text/plain": [
       "Financial Services    187\n",
       "Manufacturing         175\n",
       "Health                138\n",
       "Retail                 73\n",
       "Property               51\n",
       "Entertainment          34\n",
       "IT                     30\n",
       "Argiculture            24\n",
       "Telecommunications     23\n",
       "Name: job_industry_category, dtype: int64"
      ]
     },
     "execution_count": 25,
     "metadata": {},
     "output_type": "execute_result"
    }
   ],
   "source": [
    "job_industry = clean_set['job_industry_category'].value_counts()\n",
    "job_industry"
   ]
  },
  {
   "cell_type": "code",
   "execution_count": 26,
   "id": "581a517f",
   "metadata": {},
   "outputs": [
    {
     "data": {
      "text/plain": [
       "Female    380\n",
       "Male      355\n",
       "Name: gender, dtype: int64"
      ]
     },
     "execution_count": 26,
     "metadata": {},
     "output_type": "execute_result"
    }
   ],
   "source": [
    "gender = clean_set['gender'].value_counts()\n",
    "gender"
   ]
  },
  {
   "cell_type": "markdown",
   "id": "68449f8c",
   "metadata": {},
   "source": [
    "## Data Exploration Analysis and Visualization on the new customer data "
   ]
  },
  {
   "cell_type": "markdown",
   "id": "822ba716",
   "metadata": {},
   "source": [
    "## Which customer segment has the highest customer value?\n",
    "**Segments of interest:**\n",
    "* Wealth\n",
    "* Gender\n",
    "* Job industry\n",
    "* State"
   ]
  },
  {
   "cell_type": "code",
   "execution_count": 48,
   "id": "101a4a79",
   "metadata": {},
   "outputs": [
    {
     "data": {
      "image/png": "[encoded data removed]",
      "text/plain": [
       "<Figure size 720x576 with 1 Axes>"
      ]
     },
     "metadata": {
      "needs_background": "light"
     },
     "output_type": "display_data"
    }
   ],
   "source": [
    "# To know which segment has the highest customer values by wealth\n",
    "\n",
    "fig, ax = plt.subplots(figsize=(10, 8))\n",
    "\n",
    "\n",
    "plot= sns.countplot(x='wealth_segment', data=clean_set, ax =ax)\n",
    "#sns.color_palette(\"husl\", 4)\n",
    "ax.set_title('Customers distribution by Wealth', fontsize=20)\n",
    "ax.set_xlabel('Wealth', fontsize =18)\n",
    "ax.bar_label(ax.containers[0])\n",
    "plt.show()"
   ]
  },
  {
   "cell_type": "markdown",
   "id": "8b94aa27",
   "metadata": {},
   "source": [
    "# Deductions:\n",
    "### From the charts we can infer that the \"mass customer\" segment has the highest customer value\n",
    "* The marketting team of Sprocket Plt should focus their campaigns towards the Mass Customers\n",
    "* Equal chances should be given to their Affluent and High Net Worth customers"
   ]
  },
  {
   "cell_type": "code",
   "execution_count": 49,
   "id": "123b47ae",
   "metadata": {},
   "outputs": [
    {
     "data": {
      "image/png": "[encoded data removed]",
      "text/plain": [
       "<Figure size 864x576 with 1 Axes>"
      ]
     },
     "metadata": {},
     "output_type": "display_data"
    }
   ],
   "source": [
    "# To know which segment has the highest customer values by gender\n",
    "\n",
    "fig = plt.figure(figsize=(12,8))\n",
    "plt.axis('equal')\n",
    "plt.pie(gender, labels = ['female', 'male'], autopct='%1.1f%%')\n",
    "plt.title('Distribution of customers by gender segment', fontsize =20)\n",
    "plt.legend(loc = 'center left', title = 'Gender', fontsize = 12)\n",
    "plt.show()"
   ]
  },
  {
   "cell_type": "markdown",
   "id": "14c30711",
   "metadata": {},
   "source": [
    "# Deductions:\n",
    "### The illustration above tells us that the Female segment has 51.7% of customer value.\n",
    "* The marketting team should launch their campaign towards both gender while considering the female first\n",
    "* Since the difference between male and female isn't that much, both customers have value as regards to Sprocket plt.\n"
   ]
  },
  {
   "cell_type": "code",
   "execution_count": 47,
   "id": "b879e1eb",
   "metadata": {},
   "outputs": [
    {
     "data": {
      "image/png": "[encoded data removed]",
      "text/plain": [
       "<Figure size 864x720 with 1 Axes>"
      ]
     },
     "metadata": {
      "needs_background": "light"
     },
     "output_type": "display_data"
    }
   ],
   "source": [
    "# To know which segment has the highest customer values by Job industry category\n",
    "\n",
    "industry = ['Financial Services', 'Manufacturing','Health', 'Retail', 'Property','Entertainment',\n",
    "           'IT','Argiculture','Telecommunications' ]\n",
    "count= [187,175,138 , 73, 51,34, 30,24, 23 ]  # These industry and count was gotten from the counts above\n",
    "\n",
    "\n",
    "x = np.arange(len(job_industry))\n",
    "width = .6 #the width of the bar\n",
    "fig, ax = plt.subplots(figsize=(12, 10))\n",
    "bar1 = ax.bar(x - width/2, job_industry, width, label='Count')\n",
    "\n",
    "\n",
    "ax.set_title('Distribution of customer by Job industry category', fontsize=18)\n",
    "ax.set_xlabel('Job industry category', fontsize=16)\n",
    "ax.set_xticks(x, industry, rotation=-45, fontsize=12)\n",
    "ax.legend()\n",
    "\n",
    "ax.bar_label(bar1, padding=3,)\n",
    "\n",
    "\n",
    "\n",
    "plt.show()"
   ]
  },
  {
   "cell_type": "markdown",
   "id": "7a9d08c3",
   "metadata": {},
   "source": [
    "# Deductions:\n",
    "### The bar chart reveals that the industry segment with thw highest customer value is, Financial Services(187)\n",
    "* The marketting team of Spocket plt should leverage their customers that work in the \"Finanacial services, Manufacturing, and Health sector\". \n",
    "* Close attention should be paid to the financial and manufacturing indurstry categories"
   ]
  },
  {
   "cell_type": "code",
   "execution_count": 50,
   "id": "928200f1",
   "metadata": {},
   "outputs": [
    {
     "data": {
      "image/png": "[encoded data removed]",
      "text/plain": [
       "<Figure size 864x576 with 1 Axes>"
      ]
     },
     "metadata": {},
     "output_type": "display_data"
    }
   ],
   "source": [
    "# To know which segment has the highest customer values by States\n",
    "\n",
    "fig = plt.figure(figsize=(12,8))\n",
    "plt.axis('equal')\n",
    "plt.pie(states, labels = ['NSW', 'VIC', 'QLD'], autopct='%1.1f%%', )\n",
    "plt.title('Distribution of customers by State', fontsize =20)\n",
    "plt.legend(loc = 'center left', title = 'States', fontsize = 12)\n",
    "plt.show()"
   ]
  },
  {
   "cell_type": "markdown",
   "id": "1c6052aa",
   "metadata": {},
   "source": [
    "# Deductions:\n",
    "### Clearly the NSW state has the highest customer value among the three states\n",
    "* Sprocket marketting team should direct their campaigns towards their customers who live in NSW state.\n",
    "* Since the other states, VIC and QLD has almost same percent of customer value, equal chances shoul be given to them"
   ]
  },
  {
   "cell_type": "code",
   "execution_count": 35,
   "id": "ee5cdf9c",
   "metadata": {},
   "outputs": [
    {
     "data": {
      "image/png": "[encoded data removed]",
      "text/plain": [
       "<Figure size 720x576 with 1 Axes>"
      ]
     },
     "metadata": {
      "needs_background": "light"
     },
     "output_type": "display_data"
    }
   ],
   "source": [
    "# To know which segment has the highest customer values by States and car owners\n",
    "\n",
    "fig, ax = plt.subplots(figsize=(10, 8))\n",
    "\n",
    "\n",
    "plot= sns.countplot(x='state', data=clean_set,hue = 'owns_car', ax =ax, palette= 'mako')\n",
    "ax.set_title('Customers distribution by states and cars onwers', fontsize=20)\n",
    "ax.set_xlabel('States', fontsize =18)\n",
    "for container in ax.containers:\n",
    "    ax.bar_label(container)"
   ]
  },
  {
   "cell_type": "markdown",
   "id": "d9911f7b",
   "metadata": {},
   "source": [
    "# Deductions: \n",
    "### The highest customer value in NSW state was linked to th fact that Most car owners are from there, even thoun there is a high number of people who dont have car also.\n",
    "* Car owners have little significant role to adding value to customer at Sproket plt.\n",
    "* Marketting campaigns sholud be lauched inrespective of whethe they own cars or not."
   ]
  },
  {
   "cell_type": "code",
   "execution_count": null,
   "id": "87f915a9",
   "metadata": {},
   "outputs": [],
   "source": []
  },
  {
   "cell_type": "code",
   "execution_count": null,
   "id": "d8628748",
   "metadata": {},
   "outputs": [],
   "source": []
  },
  {
   "cell_type": "markdown",
   "id": "f6f5ee62",
   "metadata": {},
   "source": [
    "## The top customers the made bike related purchase in the pas 3 years"
   ]
  },
  {
   "cell_type": "code",
   "execution_count": 64,
   "id": "945c0552",
   "metadata": {},
   "outputs": [],
   "source": [
    "top_sales = clean_set[clean_set['bike_purchase']>= 90]"
   ]
  },
  {
   "cell_type": "code",
   "execution_count": 69,
   "id": "dd7dc460",
   "metadata": {},
   "outputs": [
    {
     "data": {
      "text/html": [
       "<div>\n",
       "<style scoped>\n",
       "    .dataframe tbody tr th:only-of-type {\n",
       "        vertical-align: middle;\n",
       "    }\n",
       "\n",
       "    .dataframe tbody tr th {\n",
       "        vertical-align: top;\n",
       "    }\n",
       "\n",
       "    .dataframe thead th {\n",
       "        text-align: right;\n",
       "    }\n",
       "</style>\n",
       "<table border=\"1\" class=\"dataframe\">\n",
       "  <thead>\n",
       "    <tr style=\"text-align: right;\">\n",
       "      <th></th>\n",
       "      <th>gender</th>\n",
       "      <th>bike_purchase</th>\n",
       "      <th>DOB</th>\n",
       "      <th>job_title</th>\n",
       "      <th>job_industry_category</th>\n",
       "      <th>wealth_segment</th>\n",
       "      <th>owns_car</th>\n",
       "      <th>tenure</th>\n",
       "      <th>state</th>\n",
       "      <th>property_valuation</th>\n",
       "    </tr>\n",
       "  </thead>\n",
       "  <tbody>\n",
       "    <tr>\n",
       "      <th>359</th>\n",
       "      <td>Male</td>\n",
       "      <td>99</td>\n",
       "      <td>1990-07-28</td>\n",
       "      <td>Media Manager IV</td>\n",
       "      <td>Retail</td>\n",
       "      <td>High Net Worth</td>\n",
       "      <td>No</td>\n",
       "      <td>10</td>\n",
       "      <td>VIC</td>\n",
       "      <td>7</td>\n",
       "    </tr>\n",
       "    <tr>\n",
       "      <th>866</th>\n",
       "      <td>Female</td>\n",
       "      <td>99</td>\n",
       "      <td>1964-12-07</td>\n",
       "      <td>Dental Hygienist</td>\n",
       "      <td>Health</td>\n",
       "      <td>High Net Worth</td>\n",
       "      <td>No</td>\n",
       "      <td>14</td>\n",
       "      <td>QLD</td>\n",
       "      <td>10</td>\n",
       "    </tr>\n",
       "    <tr>\n",
       "      <th>705</th>\n",
       "      <td>Female</td>\n",
       "      <td>99</td>\n",
       "      <td>1951-07-22</td>\n",
       "      <td>Cost Accountant</td>\n",
       "      <td>Financial Services</td>\n",
       "      <td>High Net Worth</td>\n",
       "      <td>No</td>\n",
       "      <td>16</td>\n",
       "      <td>NSW</td>\n",
       "      <td>11</td>\n",
       "    </tr>\n",
       "    <tr>\n",
       "      <th>546</th>\n",
       "      <td>Female</td>\n",
       "      <td>99</td>\n",
       "      <td>1972-04-27</td>\n",
       "      <td>Accountant III</td>\n",
       "      <td>Financial Services</td>\n",
       "      <td>Mass Customer</td>\n",
       "      <td>No</td>\n",
       "      <td>5</td>\n",
       "      <td>NSW</td>\n",
       "      <td>7</td>\n",
       "    </tr>\n",
       "    <tr>\n",
       "      <th>473</th>\n",
       "      <td>Male</td>\n",
       "      <td>99</td>\n",
       "      <td>1956-04-21</td>\n",
       "      <td>Geologist III</td>\n",
       "      <td>IT</td>\n",
       "      <td>Affluent Customer</td>\n",
       "      <td>Yes</td>\n",
       "      <td>20</td>\n",
       "      <td>NSW</td>\n",
       "      <td>5</td>\n",
       "    </tr>\n",
       "    <tr>\n",
       "      <th>...</th>\n",
       "      <td>...</td>\n",
       "      <td>...</td>\n",
       "      <td>...</td>\n",
       "      <td>...</td>\n",
       "      <td>...</td>\n",
       "      <td>...</td>\n",
       "      <td>...</td>\n",
       "      <td>...</td>\n",
       "      <td>...</td>\n",
       "      <td>...</td>\n",
       "    </tr>\n",
       "    <tr>\n",
       "      <th>944</th>\n",
       "      <td>Male</td>\n",
       "      <td>91</td>\n",
       "      <td>1992-08-09</td>\n",
       "      <td>Analog Circuit Design manager</td>\n",
       "      <td>Property</td>\n",
       "      <td>Mass Customer</td>\n",
       "      <td>No</td>\n",
       "      <td>5</td>\n",
       "      <td>NSW</td>\n",
       "      <td>9</td>\n",
       "    </tr>\n",
       "    <tr>\n",
       "      <th>576</th>\n",
       "      <td>Male</td>\n",
       "      <td>90</td>\n",
       "      <td>1943-10-27</td>\n",
       "      <td>Sales Associate</td>\n",
       "      <td>Financial Services</td>\n",
       "      <td>Affluent Customer</td>\n",
       "      <td>No</td>\n",
       "      <td>7</td>\n",
       "      <td>VIC</td>\n",
       "      <td>2</td>\n",
       "    </tr>\n",
       "    <tr>\n",
       "      <th>250</th>\n",
       "      <td>Female</td>\n",
       "      <td>90</td>\n",
       "      <td>1975-03-12</td>\n",
       "      <td>Cost Accountant</td>\n",
       "      <td>Financial Services</td>\n",
       "      <td>Mass Customer</td>\n",
       "      <td>No</td>\n",
       "      <td>11</td>\n",
       "      <td>NSW</td>\n",
       "      <td>10</td>\n",
       "    </tr>\n",
       "    <tr>\n",
       "      <th>136</th>\n",
       "      <td>Female</td>\n",
       "      <td>90</td>\n",
       "      <td>1990-05-29</td>\n",
       "      <td>Graphic Designer</td>\n",
       "      <td>Manufacturing</td>\n",
       "      <td>Affluent Customer</td>\n",
       "      <td>No</td>\n",
       "      <td>4</td>\n",
       "      <td>QLD</td>\n",
       "      <td>5</td>\n",
       "    </tr>\n",
       "    <tr>\n",
       "      <th>943</th>\n",
       "      <td>Male</td>\n",
       "      <td>90</td>\n",
       "      <td>1974-05-28</td>\n",
       "      <td>Software Test Engineer I</td>\n",
       "      <td>Retail</td>\n",
       "      <td>Mass Customer</td>\n",
       "      <td>No</td>\n",
       "      <td>8</td>\n",
       "      <td>VIC</td>\n",
       "      <td>10</td>\n",
       "    </tr>\n",
       "  </tbody>\n",
       "</table>\n",
       "<p>61 rows × 10 columns</p>\n",
       "</div>"
      ],
      "text/plain": [
       "     gender  bike_purchase        DOB                      job_title  \\\n",
       "359    Male             99 1990-07-28               Media Manager IV   \n",
       "866  Female             99 1964-12-07               Dental Hygienist   \n",
       "705  Female             99 1951-07-22                Cost Accountant   \n",
       "546  Female             99 1972-04-27                 Accountant III   \n",
       "473    Male             99 1956-04-21                  Geologist III   \n",
       "..      ...            ...        ...                            ...   \n",
       "944    Male             91 1992-08-09  Analog Circuit Design manager   \n",
       "576    Male             90 1943-10-27                Sales Associate   \n",
       "250  Female             90 1975-03-12                Cost Accountant   \n",
       "136  Female             90 1990-05-29               Graphic Designer   \n",
       "943    Male             90 1974-05-28       Software Test Engineer I   \n",
       "\n",
       "    job_industry_category     wealth_segment owns_car  tenure state  \\\n",
       "359                Retail     High Net Worth       No      10   VIC   \n",
       "866                Health     High Net Worth       No      14   QLD   \n",
       "705    Financial Services     High Net Worth       No      16   NSW   \n",
       "546    Financial Services      Mass Customer       No       5   NSW   \n",
       "473                    IT  Affluent Customer      Yes      20   NSW   \n",
       "..                    ...                ...      ...     ...   ...   \n",
       "944              Property      Mass Customer       No       5   NSW   \n",
       "576    Financial Services  Affluent Customer       No       7   VIC   \n",
       "250    Financial Services      Mass Customer       No      11   NSW   \n",
       "136         Manufacturing  Affluent Customer       No       4   QLD   \n",
       "943                Retail      Mass Customer       No       8   VIC   \n",
       "\n",
       "     property_valuation  \n",
       "359                   7  \n",
       "866                  10  \n",
       "705                  11  \n",
       "546                   7  \n",
       "473                   5  \n",
       "..                  ...  \n",
       "944                   9  \n",
       "576                   2  \n",
       "250                  10  \n",
       "136                   5  \n",
       "943                  10  \n",
       "\n",
       "[61 rows x 10 columns]"
      ]
     },
     "execution_count": 69,
     "metadata": {},
     "output_type": "execute_result"
    }
   ],
   "source": [
    "top_sales.sort_values(by=['bike_purchase'], ascending=False)\n"
   ]
  },
  {
   "cell_type": "markdown",
   "id": "df13edc5",
   "metadata": {},
   "source": [
    "#### Designed BY:\n",
    "**_Faith Ubara-collins_**\n",
    "\n",
    "**_Email: ubarajf@gamil.com_**"
   ]
  },
  {
   "cell_type": "code",
   "execution_count": null,
   "id": "79f5f65a",
   "metadata": {},
   "outputs": [],
   "source": []
  }
 ],
 "metadata": {
  "kernelspec": {
   "display_name": "Python 3 (ipykernel)",
   "language": "python",
   "name": "python3"
  },
  "language_info": {
   "codemirror_mode": {
    "name": "ipython",
    "version": 3
   },
   "file_extension": ".py",
   "mimetype": "text/x-python",
   "name": "python",
   "nbconvert_exporter": "python",
   "pygments_lexer": "ipython3",
   "version": "3.9.12"
  }
 },
 "nbformat": 4,
 "nbformat_minor": 5
}
